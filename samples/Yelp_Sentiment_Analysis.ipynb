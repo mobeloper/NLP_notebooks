{
  "nbformat": 4,
  "nbformat_minor": 0,
  "metadata": {
    "colab": {
      "provenance": []
    },
    "kernelspec": {
      "name": "python3",
      "display_name": "Python 3"
    },
    "language_info": {
      "name": "python"
    }
  },
  "cells": [
    {
      "cell_type": "code",
      "execution_count": 2,
      "metadata": {
        "id": "Mcn9uJSc72LZ"
      },
      "outputs": [],
      "source": [
        "import pandas as pd\n"
      ]
    },
    {
      "cell_type": "code",
      "source": [
        "# prompt: load the data yelp.csv\n",
        "\n",
        "import pandas as pd\n",
        "df = pd.read_csv('yelp.csv')\n"
      ],
      "metadata": {
        "id": "eXDdtoHi89Nm"
      },
      "execution_count": 4,
      "outputs": []
    },
    {
      "cell_type": "code",
      "source": [
        "# Select relevant columns\n",
        "df = df[['text', 'stars']]"
      ],
      "metadata": {
        "id": "YIgGkpJX9KDT"
      },
      "execution_count": 5,
      "outputs": []
    },
    {
      "cell_type": "code",
      "source": [
        "# Create binary sentiment labels\n",
        "df['sentiment'] = df['stars'].apply(lambda x: 1 if x >= 3 else 0)\n",
        "df['sentiment_label'] = df['sentiment'].apply(lambda x: 'Happy' if x == 1 else 'Sad')"
      ],
      "metadata": {
        "id": "qnllqGGu9MLu"
      },
      "execution_count": 6,
      "outputs": []
    },
    {
      "cell_type": "code",
      "source": [
        "import re\n",
        "import nltk\n",
        "from nltk.corpus import stopwords\n",
        "from nltk.tokenize import word_tokenize\n",
        "from nltk.stem import PorterStemmer\n",
        "\n",
        "nltk.download('punkt')\n",
        "nltk.download('stopwords')\n",
        "\n",
        "def preprocess_text(text):\n",
        "    # Convert to lowercase\n",
        "    text = text.lower()\n",
        "\n",
        "    # Remove punctuation and special characters\n",
        "    text = re.sub(r'[^\\w\\s]', '', text)\n",
        "\n",
        "    # Tokenize\n",
        "    tokens = word_tokenize(text)\n",
        "\n",
        "    # Remove stopwords\n",
        "    stop_words = set(stopwords.words('english'))\n",
        "    tokens = [word for word in tokens if word not in stop_words]\n",
        "\n",
        "    # Stemming (optional)\n",
        "    stemmer = PorterStemmer()\n",
        "    tokens = [stemmer.stem(word) for word in tokens]\n",
        "\n",
        "    return ' '.join(tokens)\n",
        "\n",
        "# Apply preprocessing to the 'text' column\n",
        "df['processed_text'] = df['text'].apply(preprocess_text)"
      ],
      "metadata": {
        "colab": {
          "base_uri": "https://localhost:8080/"
        },
        "id": "NaArcxaf9UIN",
        "outputId": "7e29bb38-ec25-4b94-fff0-a04167e6abf3"
      },
      "execution_count": 7,
      "outputs": [
        {
          "output_type": "stream",
          "name": "stderr",
          "text": [
            "[nltk_data] Downloading package punkt to /root/nltk_data...\n",
            "[nltk_data]   Unzipping tokenizers/punkt.zip.\n",
            "[nltk_data] Downloading package stopwords to /root/nltk_data...\n",
            "[nltk_data]   Unzipping corpora/stopwords.zip.\n"
          ]
        }
      ]
    },
    {
      "cell_type": "code",
      "source": [
        "from sklearn.feature_extraction.text import TfidfVectorizer\n",
        "\n",
        "# Create TF-IDF features\n",
        "vectorizer = TfidfVectorizer(max_features=5000)\n",
        "X = vectorizer.fit_transform(df['processed_text'])\n",
        "y = df['sentiment']"
      ],
      "metadata": {
        "id": "9aD65Jd59ei8"
      },
      "execution_count": 8,
      "outputs": []
    },
    {
      "cell_type": "code",
      "source": [
        "import numpy as np\n",
        "from sklearn.model_selection import train_test_split, cross_val_score\n",
        "from sklearn.metrics import accuracy_score, classification_report\n",
        "from sklearn.linear_model import LogisticRegression\n",
        "from sklearn.naive_bayes import MultinomialNB\n",
        "from sklearn.svm import SVC\n",
        "from sklearn.ensemble import RandomForestClassifier\n",
        "from sklearn.neural_network import MLPClassifier\n",
        "from xgboost import XGBClassifier\n",
        "\n",
        "# Assuming X and y are already prepared\n",
        "X_train, X_test, y_train, y_test = train_test_split(X, y, test_size=0.2, random_state=42)\n",
        "\n",
        "# Define models\n",
        "models = {\n",
        "    'Logistic Regression': LogisticRegression(random_state=42),\n",
        "    'Naive Bayes': MultinomialNB(),\n",
        "    'SVM': SVC(kernel='rbf', random_state=42),\n",
        "    'Random Forest': RandomForestClassifier(n_estimators=100, random_state=42),\n",
        "    'Neural Network': MLPClassifier(hidden_layer_sizes=(100,), max_iter=500, random_state=42),\n",
        "    'XGBoost': XGBClassifier(use_label_encoder=False, eval_metric='logloss', random_state=42)\n",
        "}\n",
        "\n",
        "# Train and evaluate models\n",
        "results = {}\n",
        "\n",
        "for name, model in models.items():\n",
        "    print(f\"Training {name}...\")\n",
        "    model.fit(X_train, y_train)\n",
        "\n",
        "    # Make predictions\n",
        "    y_pred = model.predict(X_test)\n",
        "\n",
        "    # Calculate accuracy\n",
        "    accuracy = accuracy_score(y_test, y_pred)\n",
        "\n",
        "    # Perform cross-validation\n",
        "    cv_scores = cross_val_score(model, X, y, cv=5)\n",
        "\n",
        "    # Store results\n",
        "    results[name] = {\n",
        "        'accuracy': accuracy,\n",
        "        'cv_mean': np.mean(cv_scores),\n",
        "        'cv_std': np.std(cv_scores)\n",
        "    }\n",
        "\n",
        "    print(f\"{name} - Test Accuracy: {accuracy:.4f}\")\n",
        "    print(f\"{name} - CV Accuracy: {np.mean(cv_scores):.4f} (+/- {np.std(cv_scores) * 2:.4f})\")\n",
        "    print(classification_report(y_test, y_pred))\n",
        "    print(\"\\n\" + \"=\"*50 + \"\\n\")\n",
        "\n",
        "# Find best model\n",
        "best_model = max(results, key=lambda x: results[x]['cv_mean'])\n",
        "print(f\"Best model: {best_model} with CV Accuracy: {results[best_model]['cv_mean']:.4f}\")\n",
        "\n",
        "# Detailed report for the best model\n",
        "print(\"\\nDetailed Classification Report for the Best Model:\")\n",
        "best_model_instance = models[best_model]\n",
        "best_model_instance.fit(X_train, y_train)\n",
        "y_pred_best = best_model_instance.predict(X_test)\n",
        "print(classification_report(y_test, y_pred_best))"
      ],
      "metadata": {
        "colab": {
          "base_uri": "https://localhost:8080/"
        },
        "id": "dDmmc4xA9ics",
        "outputId": "681ad33e-5db2-495b-d886-ceafb18227e4"
      },
      "execution_count": 9,
      "outputs": [
        {
          "output_type": "stream",
          "name": "stdout",
          "text": [
            "Training Logistic Regression...\n",
            "Logistic Regression - Test Accuracy: 0.8885\n",
            "Logistic Regression - CV Accuracy: 0.8805 (+/- 0.0067)\n",
            "              precision    recall  f1-score   support\n",
            "\n",
            "           0       0.87      0.32      0.47       308\n",
            "           1       0.89      0.99      0.94      1692\n",
            "\n",
            "    accuracy                           0.89      2000\n",
            "   macro avg       0.88      0.66      0.71      2000\n",
            "weighted avg       0.89      0.89      0.87      2000\n",
            "\n",
            "\n",
            "==================================================\n",
            "\n",
            "Training Naive Bayes...\n",
            "Naive Bayes - Test Accuracy: 0.8560\n",
            "Naive Bayes - CV Accuracy: 0.8431 (+/- 0.0025)\n",
            "              precision    recall  f1-score   support\n",
            "\n",
            "           0       0.92      0.07      0.13       308\n",
            "           1       0.86      1.00      0.92      1692\n",
            "\n",
            "    accuracy                           0.86      2000\n",
            "   macro avg       0.89      0.54      0.53      2000\n",
            "weighted avg       0.86      0.86      0.80      2000\n",
            "\n",
            "\n",
            "==================================================\n",
            "\n",
            "Training SVM...\n",
            "SVM - Test Accuracy: 0.8900\n",
            "SVM - CV Accuracy: 0.8849 (+/- 0.0087)\n",
            "              precision    recall  f1-score   support\n",
            "\n",
            "           0       0.88      0.33      0.48       308\n",
            "           1       0.89      0.99      0.94      1692\n",
            "\n",
            "    accuracy                           0.89      2000\n",
            "   macro avg       0.88      0.66      0.71      2000\n",
            "weighted avg       0.89      0.89      0.87      2000\n",
            "\n",
            "\n",
            "==================================================\n",
            "\n",
            "Training Random Forest...\n",
            "Random Forest - Test Accuracy: 0.8680\n",
            "Random Forest - CV Accuracy: 0.8561 (+/- 0.0071)\n",
            "              precision    recall  f1-score   support\n",
            "\n",
            "           0       0.89      0.16      0.27       308\n",
            "           1       0.87      1.00      0.93      1692\n",
            "\n",
            "    accuracy                           0.87      2000\n",
            "   macro avg       0.88      0.58      0.60      2000\n",
            "weighted avg       0.87      0.87      0.83      2000\n",
            "\n",
            "\n",
            "==================================================\n",
            "\n",
            "Training Neural Network...\n",
            "Neural Network - Test Accuracy: 0.8815\n",
            "Neural Network - CV Accuracy: 0.8696 (+/- 0.0043)\n",
            "              precision    recall  f1-score   support\n",
            "\n",
            "           0       0.62      0.58      0.60       308\n",
            "           1       0.92      0.94      0.93      1692\n",
            "\n",
            "    accuracy                           0.88      2000\n",
            "   macro avg       0.77      0.76      0.77      2000\n",
            "weighted avg       0.88      0.88      0.88      2000\n",
            "\n",
            "\n",
            "==================================================\n",
            "\n",
            "Training XGBoost...\n"
          ]
        },
        {
          "output_type": "stream",
          "name": "stderr",
          "text": [
            "/usr/local/lib/python3.10/dist-packages/xgboost/core.py:158: UserWarning: [12:57:42] WARNING: /workspace/src/learner.cc:740: \n",
            "Parameters: { \"use_label_encoder\" } are not used.\n",
            "\n",
            "  warnings.warn(smsg, UserWarning)\n",
            "/usr/local/lib/python3.10/dist-packages/xgboost/core.py:158: UserWarning: [12:58:02] WARNING: /workspace/src/learner.cc:740: \n",
            "Parameters: { \"use_label_encoder\" } are not used.\n",
            "\n",
            "  warnings.warn(smsg, UserWarning)\n",
            "/usr/local/lib/python3.10/dist-packages/xgboost/core.py:158: UserWarning: [12:58:22] WARNING: /workspace/src/learner.cc:740: \n",
            "Parameters: { \"use_label_encoder\" } are not used.\n",
            "\n",
            "  warnings.warn(smsg, UserWarning)\n",
            "/usr/local/lib/python3.10/dist-packages/xgboost/core.py:158: UserWarning: [12:58:42] WARNING: /workspace/src/learner.cc:740: \n",
            "Parameters: { \"use_label_encoder\" } are not used.\n",
            "\n",
            "  warnings.warn(smsg, UserWarning)\n",
            "/usr/local/lib/python3.10/dist-packages/xgboost/core.py:158: UserWarning: [12:59:06] WARNING: /workspace/src/learner.cc:740: \n",
            "Parameters: { \"use_label_encoder\" } are not used.\n",
            "\n",
            "  warnings.warn(smsg, UserWarning)\n",
            "/usr/local/lib/python3.10/dist-packages/xgboost/core.py:158: UserWarning: [12:59:25] WARNING: /workspace/src/learner.cc:740: \n",
            "Parameters: { \"use_label_encoder\" } are not used.\n",
            "\n",
            "  warnings.warn(smsg, UserWarning)\n"
          ]
        },
        {
          "output_type": "stream",
          "name": "stdout",
          "text": [
            "XGBoost - Test Accuracy: 0.8935\n",
            "XGBoost - CV Accuracy: 0.8838 (+/- 0.0136)\n",
            "              precision    recall  f1-score   support\n",
            "\n",
            "           0       0.77      0.44      0.56       308\n",
            "           1       0.90      0.98      0.94      1692\n",
            "\n",
            "    accuracy                           0.89      2000\n",
            "   macro avg       0.84      0.71      0.75      2000\n",
            "weighted avg       0.88      0.89      0.88      2000\n",
            "\n",
            "\n",
            "==================================================\n",
            "\n",
            "Best model: SVM with CV Accuracy: 0.8849\n",
            "\n",
            "Detailed Classification Report for the Best Model:\n",
            "              precision    recall  f1-score   support\n",
            "\n",
            "           0       0.88      0.33      0.48       308\n",
            "           1       0.89      0.99      0.94      1692\n",
            "\n",
            "    accuracy                           0.89      2000\n",
            "   macro avg       0.88      0.66      0.71      2000\n",
            "weighted avg       0.89      0.89      0.87      2000\n",
            "\n"
          ]
        }
      ]
    },
    {
      "cell_type": "code",
      "source": [
        "from sklearn.model_selection import GridSearchCV\n",
        "from sklearn.svm import SVC\n",
        "from sklearn.metrics import make_scorer, f1_score\n",
        "\n",
        "# Define the corrected parameter grid\n",
        "param_grid = {\n",
        "    'C': [0.1, 1, 10, 100],\n",
        "    'kernel': ['rbf', 'linear'],\n",
        "    'gamma': ['scale', 'auto', 0.1, 1],\n",
        "    'class_weight': [None, 'balanced']\n",
        "}\n",
        "\n",
        "# Create an SVM classifier\n",
        "svm = SVC(random_state=42)\n",
        "\n",
        "# Create the GridSearchCV object\n",
        "grid_search = GridSearchCV(\n",
        "    estimator=svm,\n",
        "    param_grid=param_grid,\n",
        "    cv=5,\n",
        "    scoring=make_scorer(f1_score, average='weighted'),\n",
        "    n_jobs=-1,\n",
        "    verbose=2\n",
        ")\n",
        "\n",
        "# Fit the GridSearchCV object to the data\n",
        "grid_search.fit(X_train, y_train)\n",
        "\n",
        "# Print the best parameters and score\n",
        "print(\"Best parameters:\", grid_search.best_params_)\n",
        "print(\"Best cross-validation score:\", grid_search.best_score_)\n",
        "\n",
        "# Get the best model\n",
        "best_svm = grid_search.best_estimator_"
      ],
      "metadata": {
        "colab": {
          "base_uri": "https://localhost:8080/"
        },
        "id": "DjnUzgUWBcoT",
        "outputId": "c78027d8-ecf3-406b-8c7a-e0b1dfb98d3e"
      },
      "execution_count": 10,
      "outputs": [
        {
          "output_type": "stream",
          "name": "stdout",
          "text": [
            "Fitting 5 folds for each of 64 candidates, totalling 320 fits\n",
            "Best parameters: {'C': 1, 'class_weight': 'balanced', 'gamma': 1, 'kernel': 'rbf'}\n",
            "Best cross-validation score: 0.8889090948550862\n"
          ]
        }
      ]
    },
    {
      "cell_type": "code",
      "source": [
        "# Train on full dataset\n",
        "best_svm_final = SVC(**grid_search.best_params_, random_state=42)\n",
        "best_svm_final.fit(X, y)  # Fit the model on the original data (X, y)"
      ],
      "metadata": {
        "colab": {
          "base_uri": "https://localhost:8080/",
          "height": 75
        },
        "id": "nzGSiLU2Dg2D",
        "outputId": "12f4358e-010b-4035-8ce4-2c3f8ac73d3e"
      },
      "execution_count": 13,
      "outputs": [
        {
          "output_type": "execute_result",
          "data": {
            "text/plain": [
              "SVC(C=1, class_weight='balanced', gamma=1, random_state=42)"
            ],
            "text/html": [
              "<style>#sk-container-id-1 {color: black;}#sk-container-id-1 pre{padding: 0;}#sk-container-id-1 div.sk-toggleable {background-color: white;}#sk-container-id-1 label.sk-toggleable__label {cursor: pointer;display: block;width: 100%;margin-bottom: 0;padding: 0.3em;box-sizing: border-box;text-align: center;}#sk-container-id-1 label.sk-toggleable__label-arrow:before {content: \"▸\";float: left;margin-right: 0.25em;color: #696969;}#sk-container-id-1 label.sk-toggleable__label-arrow:hover:before {color: black;}#sk-container-id-1 div.sk-estimator:hover label.sk-toggleable__label-arrow:before {color: black;}#sk-container-id-1 div.sk-toggleable__content {max-height: 0;max-width: 0;overflow: hidden;text-align: left;background-color: #f0f8ff;}#sk-container-id-1 div.sk-toggleable__content pre {margin: 0.2em;color: black;border-radius: 0.25em;background-color: #f0f8ff;}#sk-container-id-1 input.sk-toggleable__control:checked~div.sk-toggleable__content {max-height: 200px;max-width: 100%;overflow: auto;}#sk-container-id-1 input.sk-toggleable__control:checked~label.sk-toggleable__label-arrow:before {content: \"▾\";}#sk-container-id-1 div.sk-estimator input.sk-toggleable__control:checked~label.sk-toggleable__label {background-color: #d4ebff;}#sk-container-id-1 div.sk-label input.sk-toggleable__control:checked~label.sk-toggleable__label {background-color: #d4ebff;}#sk-container-id-1 input.sk-hidden--visually {border: 0;clip: rect(1px 1px 1px 1px);clip: rect(1px, 1px, 1px, 1px);height: 1px;margin: -1px;overflow: hidden;padding: 0;position: absolute;width: 1px;}#sk-container-id-1 div.sk-estimator {font-family: monospace;background-color: #f0f8ff;border: 1px dotted black;border-radius: 0.25em;box-sizing: border-box;margin-bottom: 0.5em;}#sk-container-id-1 div.sk-estimator:hover {background-color: #d4ebff;}#sk-container-id-1 div.sk-parallel-item::after {content: \"\";width: 100%;border-bottom: 1px solid gray;flex-grow: 1;}#sk-container-id-1 div.sk-label:hover label.sk-toggleable__label {background-color: #d4ebff;}#sk-container-id-1 div.sk-serial::before {content: \"\";position: absolute;border-left: 1px solid gray;box-sizing: border-box;top: 0;bottom: 0;left: 50%;z-index: 0;}#sk-container-id-1 div.sk-serial {display: flex;flex-direction: column;align-items: center;background-color: white;padding-right: 0.2em;padding-left: 0.2em;position: relative;}#sk-container-id-1 div.sk-item {position: relative;z-index: 1;}#sk-container-id-1 div.sk-parallel {display: flex;align-items: stretch;justify-content: center;background-color: white;position: relative;}#sk-container-id-1 div.sk-item::before, #sk-container-id-1 div.sk-parallel-item::before {content: \"\";position: absolute;border-left: 1px solid gray;box-sizing: border-box;top: 0;bottom: 0;left: 50%;z-index: -1;}#sk-container-id-1 div.sk-parallel-item {display: flex;flex-direction: column;z-index: 1;position: relative;background-color: white;}#sk-container-id-1 div.sk-parallel-item:first-child::after {align-self: flex-end;width: 50%;}#sk-container-id-1 div.sk-parallel-item:last-child::after {align-self: flex-start;width: 50%;}#sk-container-id-1 div.sk-parallel-item:only-child::after {width: 0;}#sk-container-id-1 div.sk-dashed-wrapped {border: 1px dashed gray;margin: 0 0.4em 0.5em 0.4em;box-sizing: border-box;padding-bottom: 0.4em;background-color: white;}#sk-container-id-1 div.sk-label label {font-family: monospace;font-weight: bold;display: inline-block;line-height: 1.2em;}#sk-container-id-1 div.sk-label-container {text-align: center;}#sk-container-id-1 div.sk-container {/* jupyter's `normalize.less` sets `[hidden] { display: none; }` but bootstrap.min.css set `[hidden] { display: none !important; }` so we also need the `!important` here to be able to override the default hidden behavior on the sphinx rendered scikit-learn.org. See: https://github.com/scikit-learn/scikit-learn/issues/21755 */display: inline-block !important;position: relative;}#sk-container-id-1 div.sk-text-repr-fallback {display: none;}</style><div id=\"sk-container-id-1\" class=\"sk-top-container\"><div class=\"sk-text-repr-fallback\"><pre>SVC(C=1, class_weight=&#x27;balanced&#x27;, gamma=1, random_state=42)</pre><b>In a Jupyter environment, please rerun this cell to show the HTML representation or trust the notebook. <br />On GitHub, the HTML representation is unable to render, please try loading this page with nbviewer.org.</b></div><div class=\"sk-container\" hidden><div class=\"sk-item\"><div class=\"sk-estimator sk-toggleable\"><input class=\"sk-toggleable__control sk-hidden--visually\" id=\"sk-estimator-id-1\" type=\"checkbox\" checked><label for=\"sk-estimator-id-1\" class=\"sk-toggleable__label sk-toggleable__label-arrow\">SVC</label><div class=\"sk-toggleable__content\"><pre>SVC(C=1, class_weight=&#x27;balanced&#x27;, gamma=1, random_state=42)</pre></div></div></div></div></div>"
            ]
          },
          "metadata": {},
          "execution_count": 13
        }
      ]
    },
    {
      "cell_type": "code",
      "source": [
        "from sklearn.metrics import classification_report, confusion_matrix\n",
        "import seaborn as sns\n",
        "import matplotlib.pyplot as plt\n",
        "\n",
        "# Make predictions\n",
        "y_pred = best_svm_final.predict(X_test)\n",
        "\n",
        "# Print classification report\n",
        "print(classification_report(y_test, y_pred))\n",
        "\n",
        "# Create confusion matrix\n",
        "cm = confusion_matrix(y_test, y_pred)\n",
        "sns.heatmap(cm, annot=True, fmt='d')\n",
        "plt.xlabel('Predicted')\n",
        "plt.ylabel('Actual')\n",
        "plt.show()"
      ],
      "metadata": {
        "colab": {
          "base_uri": "https://localhost:8080/",
          "height": 610
        },
        "id": "nUe2-TDzDzqC",
        "outputId": "d1943dfb-02ba-4e3f-c840-cc4a15b889db"
      },
      "execution_count": 16,
      "outputs": [
        {
          "output_type": "stream",
          "name": "stdout",
          "text": [
            "              precision    recall  f1-score   support\n",
            "\n",
            "           0       0.96      1.00      0.98       308\n",
            "           1       1.00      0.99      1.00      1692\n",
            "\n",
            "    accuracy                           0.99      2000\n",
            "   macro avg       0.98      1.00      0.99      2000\n",
            "weighted avg       0.99      0.99      0.99      2000\n",
            "\n"
          ]
        },
        {
          "output_type": "display_data",
          "data": {
            "text/plain": [
              "<Figure size 640x480 with 2 Axes>"
            ],
            "image/png": "[encoded data removed]"
          },
          "metadata": {}
        }
      ]
    },
    {
      "cell_type": "code",
      "source": [
        "import joblib\n",
        "\n",
        "# Save the model\n",
        "joblib.dump(best_svm_final, 'svm_sentiment_model.joblib')\n",
        "\n",
        "# Save the feature selector\n",
        "joblib.dump(model, 'feature_selector.joblib')"
      ],
      "metadata": {
        "colab": {
          "base_uri": "https://localhost:8080/"
        },
        "id": "oMLFHi8ED1zy",
        "outputId": "beed0258-0603-4953-ee58-f4bba1bc0d3c"
      },
      "execution_count": 18,
      "outputs": [
        {
          "output_type": "execute_result",
          "data": {
            "text/plain": [
              "['feature_selector.joblib']"
            ]
          },
          "metadata": {},
          "execution_count": 18
        }
      ]
    },
    {
      "cell_type": "code",
      "source": [],
      "metadata": {
        "id": "5giasSP_6v8c"
      },
      "execution_count": null,
      "outputs": []
    },
    {
      "cell_type": "code",
      "source": [
        "import joblib\n",
        "\n",
        "# Load the model\n",
        "loaded_model = joblib.load('svm_sentiment_model.joblib')\n",
        "\n",
        "# Assuming you have a different feature selector model named 'actual_feature_selector'\n",
        "loaded_selector = joblib.load('feature_selector.joblib')\n",
        "\n",
        "# Function to preprocess and predict sentiment for new text\n",
        "def predict_sentiment(text, vectorizer, selector, model):\n",
        "    # Preprocess the text (assuming you have a preprocess_text function)\n",
        "    processed_text = preprocess_text(text)\n",
        "\n",
        "    # Transform the text using the same vectorizer\n",
        "    text_vector = vectorizer.transform([processed_text])\n",
        "\n",
        "    # Select features\n",
        "    # Use predict_proba to get probabilities for each class and select features based on probabilities\n",
        "    probabilities = selector.predict_proba(text_vector)\n",
        "    # You'll need to define your feature selection logic based on probabilities.\n",
        "    # For example, select features where probability of a class is above a threshold.\n",
        "\n",
        "    # Make prediction\n",
        "    prediction = model.predict(text_vector)[0] # Use the original text_vector for prediction\n",
        "\n",
        "    return 'Happy' if prediction == 1 else 'Sad'\n",
        "\n",
        "# Example usage\n",
        "new_text = \"The food was amazing and the service was excellent!\"\n",
        "sentiment = predict_sentiment(new_text, vectorizer, loaded_selector, loaded_model)\n",
        "print(f\"Predicted sentiment: {sentiment}\")"
      ],
      "metadata": {
        "colab": {
          "base_uri": "https://localhost:8080/"
        },
        "id": "jg4YwRa0D6lq",
        "outputId": "fa9a6743-fbe2-4e49-dd81-872b52293f37"
      },
      "execution_count": 22,
      "outputs": [
        {
          "output_type": "stream",
          "name": "stdout",
          "text": [
            "Predicted sentiment: Happy\n"
          ]
        }
      ]
    },
    {
      "cell_type": "code",
      "source": [],
      "metadata": {
        "id": "MkM81gWS7kBj"
      },
      "execution_count": null,
      "outputs": []
    },
    {
      "cell_type": "code",
      "source": [],
      "metadata": {
        "id": "MPFogsE-7RXV"
      },
      "execution_count": null,
      "outputs": []
    },
    {
      "cell_type": "code",
      "source": [],
      "metadata": {
        "id": "UbHTeMTt7I_B"
      },
      "execution_count": null,
      "outputs": []
    }
  ]
}